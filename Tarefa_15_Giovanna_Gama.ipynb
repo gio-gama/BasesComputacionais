{
  "nbformat": 4,
  "nbformat_minor": 0,
  "metadata": {
    "colab": {
      "provenance": [],
      "authorship_tag": "ABX9TyPsZwVeSRnWhPJEn1SgzONI",
      "include_colab_link": true
    },
    "kernelspec": {
      "name": "python3",
      "display_name": "Python 3"
    },
    "language_info": {
      "name": "python"
    }
  },
  "cells": [
    {
      "cell_type": "markdown",
      "metadata": {
        "id": "view-in-github",
        "colab_type": "text"
      },
      "source": [
        "<a href=\"https://colab.research.google.com/github/gio-gama/BasesComputacionais/blob/master/Tarefa_15_Giovanna_Gama.ipynb\" target=\"_parent\"><img src=\"https://colab.research.google.com/assets/colab-badge.svg\" alt=\"Open In Colab\"/></a>"
      ]
    },
    {
      "cell_type": "markdown",
      "source": [
        "Giovanna Gama "
      ],
      "metadata": {
        "id": "YS-63om5skCD"
      }
    },
    {
      "cell_type": "code",
      "source": [
        "def TrueOrFalse(a, b, x):\n",
        "    if a<x and x<b:\n",
        "     return True\n",
        "    else:\n",
        "     return False"
      ],
      "metadata": {
        "id": "HVUofmdLswEZ"
      },
      "execution_count": 21,
      "outputs": []
    },
    {
      "cell_type": "code",
      "source": [
        "True or False\n",
        "TrueOrFalse (a =-2.5, b=6.3, x=9.1)"
      ],
      "metadata": {
        "colab": {
          "base_uri": "https://localhost:8080/"
        },
        "id": "mPXIuO7Kx6Xy",
        "outputId": "aa8e0125-6019-4bdd-f898-a785395b12ab"
      },
      "execution_count": 22,
      "outputs": [
        {
          "output_type": "execute_result",
          "data": {
            "text/plain": [
              "False"
            ]
          },
          "metadata": {},
          "execution_count": 22
        }
      ]
    },
    {
      "cell_type": "code",
      "source": [
        "True or False\n",
        "TrueOrFalse (a =-10, b=7, x=2)\n"
      ],
      "metadata": {
        "colab": {
          "base_uri": "https://localhost:8080/"
        },
        "id": "fVreau9Uz2xy",
        "outputId": "a0de71a2-b3a8-4038-bb2a-fc5ce5c1e022"
      },
      "execution_count": 23,
      "outputs": [
        {
          "output_type": "execute_result",
          "data": {
            "text/plain": [
              "True"
            ]
          },
          "metadata": {},
          "execution_count": 23
        }
      ]
    },
    {
      "cell_type": "code",
      "source": [
        "True or False\n",
        "TrueOrFalse (a =-67.2, b=87.2, x=8.1)\n"
      ],
      "metadata": {
        "colab": {
          "base_uri": "https://localhost:8080/"
        },
        "id": "kiITvpfm0Ap4",
        "outputId": "471897f2-9143-4109-a4da-8aea1ca5e387"
      },
      "execution_count": 24,
      "outputs": [
        {
          "output_type": "execute_result",
          "data": {
            "text/plain": [
              "True"
            ]
          },
          "metadata": {},
          "execution_count": 24
        }
      ]
    }
  ]
}