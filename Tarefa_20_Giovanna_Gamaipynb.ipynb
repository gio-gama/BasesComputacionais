{
  "nbformat": 4,
  "nbformat_minor": 0,
  "metadata": {
    "colab": {
      "provenance": [],
      "authorship_tag": "ABX9TyO4LjY20UKs4WuDd3+gTDb9",
      "include_colab_link": true
    },
    "kernelspec": {
      "name": "python3",
      "display_name": "Python 3"
    },
    "language_info": {
      "name": "python"
    }
  },
  "cells": [
    {
      "cell_type": "markdown",
      "metadata": {
        "id": "view-in-github",
        "colab_type": "text"
      },
      "source": [
        "<a href=\"https://colab.research.google.com/github/gio-gama/BasesComputacionais/blob/master/Tarefa_20_Giovanna_Gamaipynb.ipynb\" target=\"_parent\"><img src=\"https://colab.research.google.com/assets/colab-badge.svg\" alt=\"Open In Colab\"/></a>"
      ]
    },
    {
      "cell_type": "code",
      "execution_count": 1,
      "metadata": {
        "id": "iodSR0UAflnV"
      },
      "outputs": [],
      "source": [
        "import numpy as np\n",
        "import pandas as pd\n",
        "import matplotlib.pyplot as plt\n",
        "from scipy import integrate\n",
        "import ipywidgets as ipw"
      ]
    },
    {
      "cell_type": "code",
      "source": [
        "alpha = 0.00011\n",
        "beta =  0.00001 #mortality rate due to predators\n",
        "delta = 0.000000009\n",
        "gamma = 0.00007\n",
        "x0 = 2.\n",
        "y0 = 4.\n",
        "\n",
        "def derivative(X, t, alpha, beta, delta, gamma):\n",
        "    x, y = X\n",
        "    dotx = x * (alpha - beta * y)\n",
        "    doty = y * (-delta + gamma * x)\n",
        "    return np.array([dotx, doty])"
      ],
      "metadata": {
        "id": "IkFYRId1h3LR"
      },
      "execution_count": 8,
      "outputs": []
    },
    {
      "cell_type": "code",
      "source": [
        "Nt = 1000\n",
        "tmax = 999.\n",
        "t = np.linspace(0.01,tmax, Nt)\n",
        "X0 = [x0, y0]\n",
        "res = integrate.odeint(derivative, X0, t, args = (alpha, beta, delta, gamma))\n",
        "x, y = res.T"
      ],
      "metadata": {
        "id": "HpNUBvWRjl75"
      },
      "execution_count": 11,
      "outputs": []
    },
    {
      "cell_type": "code",
      "source": [
        "plt.figure()\n",
        "plt.grid()\n",
        "plt.title(\"odeint method\")\n",
        "plt.plot(t, x, 'xb', label = 'Deer')\n",
        "plt.plot(t, y, '+r', label = \"Wolves\")\n",
        "plt.xlabel('Time t, [days]')\n",
        "plt.ylabel('Population')\n",
        "plt.legend()\n",
        "\n",
        "plt.show()"
      ],
      "metadata": {
        "colab": {
          "base_uri": "https://localhost:8080/",
          "height": 295
        },
        "id": "GfusfKQQkC9G",
        "outputId": "d4f2ddbe-10b9-4fb7-fc0b-1b21b5484b3e"
      },
      "execution_count": 12,
      "outputs": [
        {
          "output_type": "display_data",
          "data": {
            "text/plain": [
              "<Figure size 432x288 with 1 Axes>"
            ],
            "image/png": "[encoded data removed]"
          },
          "metadata": {
            "needs_background": "light"
          }
        }
      ]
    }
  ]
}