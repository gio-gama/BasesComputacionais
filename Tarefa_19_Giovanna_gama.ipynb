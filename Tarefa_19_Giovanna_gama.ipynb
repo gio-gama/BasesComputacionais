{
  "nbformat": 4,
  "nbformat_minor": 0,
  "metadata": {
    "colab": {
      "provenance": [],
      "authorship_tag": "ABX9TyMyzquVzeDkjU7I+ptaiZ8K",
      "include_colab_link": true
    },
    "kernelspec": {
      "name": "python3",
      "display_name": "Python 3"
    },
    "language_info": {
      "name": "python"
    }
  },
  "cells": [
    {
      "cell_type": "markdown",
      "metadata": {
        "id": "view-in-github",
        "colab_type": "text"
      },
      "source": [
        "<a href=\"https://colab.research.google.com/github/gio-gama/BasesComputacionais/blob/master/Tarefa_19_Giovanna_gama.ipynb\" target=\"_parent\"><img src=\"https://colab.research.google.com/assets/colab-badge.svg\" alt=\"Open In Colab\"/></a>"
      ]
    },
    {
      "cell_type": "code",
      "source": [
        "import numpy as np \n",
        "Nc = 0\n",
        "r = float(0.5)\n",
        "N = 1000\n",
        "\n"
      ],
      "metadata": {
        "id": "uGDxS4pE6PiR"
      },
      "execution_count": 4,
      "outputs": []
    },
    {
      "cell_type": "code",
      "source": [
        "for i in range(N):\n",
        "   x = np.random.rand(1)\n",
        "   y = np.random.rand(1)\n",
        "\n",
        "   d = np.sqrt((x-r)**2+(y-r)**2)\n",
        "\n",
        "   if d < r:\n",
        "     Nc = Nc + 1\n",
        "\n",
        "   p = 4 * (Nc/N)\n",
        "\n",
        "   #print(x)\n",
        "   #print(y)\n",
        "   #print(d) \n",
        "print(p)     "
      ],
      "metadata": {
        "colab": {
          "base_uri": "https://localhost:8080/"
        },
        "id": "afpwhoc19wlx",
        "outputId": "cd4d7aee-160e-489e-e4c1-7ca7782986fe"
      },
      "execution_count": 7,
      "outputs": [
        {
          "output_type": "stream",
          "name": "stdout",
          "text": [
            "3.136\n"
          ]
        }
      ]
    }
  ]
}