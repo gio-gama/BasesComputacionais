{
  "nbformat": 4,
  "nbformat_minor": 0,
  "metadata": {
    "colab": {
      "provenance": [],
      "authorship_tag": "ABX9TyNM7N61Q4tbFgIiGoXKtBNI",
      "include_colab_link": true
    },
    "kernelspec": {
      "name": "python3",
      "display_name": "Python 3"
    },
    "language_info": {
      "name": "python"
    }
  },
  "cells": [
    {
      "cell_type": "markdown",
      "metadata": {
        "id": "view-in-github",
        "colab_type": "text"
      },
      "source": [
        "<a href=\"https://colab.research.google.com/github/gio-gama/BasesComputacionais/blob/master/Tarefa_3_Giovanna_Gama.ipynb\" target=\"_parent\"><img src=\"https://colab.research.google.com/assets/colab-badge.svg\" alt=\"Open In Colab\"/></a>"
      ]
    },
    {
      "cell_type": "markdown",
      "source": [
        "Tarefa 3 \n",
        "\n",
        "Giovanna Gama"
      ],
      "metadata": {
        "id": "R_DOky1GZRLX"
      }
    },
    {
      "cell_type": "code",
      "source": [
        "h = 1.5\n",
        "s = h * 60 * 60 # hora para segundo\n",
        "print(f's = {s:.3f} h')"
      ],
      "metadata": {
        "colab": {
          "base_uri": "https://localhost:8080/"
        },
        "id": "rs4qil0tZl5X",
        "outputId": "60edb53f-c1b0-46a3-a104-2fc02cbe667b"
      },
      "execution_count": 10,
      "outputs": [
        {
          "output_type": "stream",
          "name": "stdout",
          "text": [
            "s = 5400.000 h\n"
          ]
        }
      ]
    },
    {
      "cell_type": "code",
      "source": [
        "h = 12\n",
        "s = h * 60 * 60 # hora para segundo \n",
        "print(f's = {s:.3f} h')"
      ],
      "metadata": {
        "colab": {
          "base_uri": "https://localhost:8080/"
        },
        "id": "Qw8C2LzVcVb7",
        "outputId": "c1e380cc-18e3-4264-e7e4-f29417a588f3"
      },
      "execution_count": 11,
      "outputs": [
        {
          "output_type": "stream",
          "name": "stdout",
          "text": [
            "s = 43200.000 h\n"
          ]
        }
      ]
    },
    {
      "cell_type": "code",
      "source": [
        "h = 24 \n",
        "s = h * 60 * 60 # hora para segundo \n",
        "print(f's = {s:.3f} h')\n"
      ],
      "metadata": {
        "colab": {
          "base_uri": "https://localhost:8080/"
        },
        "id": "dZAmFCT6c1oI",
        "outputId": "b383cf33-2fac-4117-dd78-d0f41bfb4cf8"
      },
      "execution_count": 12,
      "outputs": [
        {
          "output_type": "stream",
          "name": "stdout",
          "text": [
            "s = 86400.000 h\n"
          ]
        }
      ]
    }
  ]
}