{
  "nbformat": 4,
  "nbformat_minor": 0,
  "metadata": {
    "colab": {
      "provenance": [],
      "toc_visible": true,
      "authorship_tag": "ABX9TyMyP4imb4TppCHJCI8PVMnD",
      "include_colab_link": true
    },
    "kernelspec": {
      "name": "python3",
      "display_name": "Python 3"
    },
    "language_info": {
      "name": "python"
    }
  },
  "cells": [
    {
      "cell_type": "markdown",
      "metadata": {
        "id": "view-in-github",
        "colab_type": "text"
      },
      "source": [
        "<a href=\"https://colab.research.google.com/github/gio-gama/BasesComputacionais/blob/master/Tarefa_4.ipynb\" target=\"_parent\"><img src=\"https://colab.research.google.com/assets/colab-badge.svg\" alt=\"Open In Colab\"/></a>"
      ]
    },
    {
      "cell_type": "markdown",
      "source": [
        "Giovanna Gama"
      ],
      "metadata": {
        "id": "S7i9sBintmLC"
      }
    },
    {
      "cell_type": "code",
      "source": [
        "1.\n",
        "import numpy as np\n",
        "# Variaveis do volume de uma esfera \n",
        "r = 0.32 # raio em volume\n",
        "v = 4/3 * np.pi * r**3\n",
        "print(f'v = {v:.3f} r')"
      ],
      "metadata": {
        "colab": {
          "base_uri": "https://localhost:8080/"
        },
        "id": "GxBQHomQOpmK",
        "outputId": "79354a89-f422-4e1d-f982-02dde2de80d9"
      },
      "execution_count": null,
      "outputs": [
        {
          "output_type": "stream",
          "name": "stdout",
          "text": [
            "v = 0.137 r\n"
          ]
        }
      ]
    },
    {
      "cell_type": "code",
      "source": [
        "r = 1 # raio em volume \n",
        "v = 4/3 * np.pi * r**3\n",
        "print(f'v = {v:.3f} r')"
      ],
      "metadata": {
        "colab": {
          "base_uri": "https://localhost:8080/"
        },
        "id": "e699Ws8xPsvI",
        "outputId": "0d4fd27e-a520-438f-8ea1-6b485097bbb2"
      },
      "execution_count": null,
      "outputs": [
        {
          "output_type": "stream",
          "name": "stdout",
          "text": [
            "v = 4.189 r\n"
          ]
        }
      ]
    },
    {
      "cell_type": "code",
      "source": [
        "r = 1.9 # raio em volume \n",
        "v = 4/3 * np.pi * r**3\n",
        "print(f'v = {v:.3f} r')"
      ],
      "metadata": {
        "colab": {
          "base_uri": "https://localhost:8080/"
        },
        "id": "91KTrJ6mQXUQ",
        "outputId": "6625b9d1-703e-498a-fa19-f7658136b32d"
      },
      "execution_count": null,
      "outputs": [
        {
          "output_type": "stream",
          "name": "stdout",
          "text": [
            "v = 28.731 r\n"
          ]
        }
      ]
    },
    {
      "cell_type": "code",
      "source": [
        "2. \n",
        "import numpy as np\n",
        "TC = -10 \n",
        "TF = (TC*9/5)+32\n",
        "print(f'TF = {TF:.3f} T1')"
      ],
      "metadata": {
        "colab": {
          "base_uri": "https://localhost:8080/"
        },
        "id": "GF5OqJwAQ0pr",
        "outputId": "7249f9ef-851d-4b2a-b575-094c75a56809"
      },
      "execution_count": null,
      "outputs": [
        {
          "output_type": "stream",
          "name": "stdout",
          "text": [
            "TF = 14.000 T1\n"
          ]
        }
      ]
    },
    {
      "cell_type": "code",
      "source": [
        "TC = 30\n",
        "TF = (TC*9/5)+32\n",
        "print(f'TF = {TF:.3f} T1')\n"
      ],
      "metadata": {
        "colab": {
          "base_uri": "https://localhost:8080/"
        },
        "id": "5oMUDwcCKzLY",
        "outputId": "55b1c3f1-a993-40b5-f3c7-5dba5e8e075e"
      },
      "execution_count": null,
      "outputs": [
        {
          "output_type": "stream",
          "name": "stdout",
          "text": [
            "TF = 86.000 T1\n"
          ]
        }
      ]
    },
    {
      "cell_type": "code",
      "source": [
        "TC = 30\n",
        "TF = (TC*9/5)+32\n",
        "print(f'TF = {TF:.3f} T1')"
      ],
      "metadata": {
        "colab": {
          "base_uri": "https://localhost:8080/"
        },
        "id": "AFIQ4KyULG_A",
        "outputId": "a9a08bf8-e2bd-45c0-d3b2-4465af087bec"
      },
      "execution_count": null,
      "outputs": [
        {
          "output_type": "stream",
          "name": "stdout",
          "text": [
            "TF = 86.000 T1\n"
          ]
        }
      ]
    },
    {
      "cell_type": "code",
      "source": [
        "import numpy as np\n",
        "a = 1\n",
        "b = 2\n",
        "g = 30\n",
        "grad = g * (np.pi/180)\n",
        "c = np.sqrt((a**2+b**2)-(2*a*b*np.cos(grad)))\n",
        "print(f'o valor do lado c é de {c}')"
      ],
      "metadata": {
        "colab": {
          "base_uri": "https://localhost:8080/"
        },
        "id": "ltFQV3IKp573",
        "outputId": "85e682a7-15cf-4ac8-f751-7320274b6b7f"
      },
      "execution_count": 5,
      "outputs": [
        {
          "output_type": "stream",
          "name": "stdout",
          "text": [
            "o valor do lado c é de 1.2393136749274758\n"
          ]
        }
      ]
    },
    {
      "cell_type": "code",
      "source": [
        "a = 3\n",
        "b = 1\n",
        "g = 45\n",
        "grad = g * (np.pi/180)\n",
        "c = np.sqrt((a**2+b**2)-(2*a*b*np.cos(grad)))\n",
        "print(f'o valor do lado c é de {c}')"
      ],
      "metadata": {
        "colab": {
          "base_uri": "https://localhost:8080/"
        },
        "id": "HebS0qUbr1gy",
        "outputId": "b02d14c4-b8de-40a7-fa08-ecc0c42c6c67"
      },
      "execution_count": 6,
      "outputs": [
        {
          "output_type": "stream",
          "name": "stdout",
          "text": [
            "o valor do lado c é de 2.3994497937820483\n"
          ]
        }
      ]
    },
    {
      "cell_type": "code",
      "source": [
        "a = 10\n",
        "b = 11\n",
        "g = 15\n",
        "grad = g * (np.pi/180)\n",
        "c = np.sqrt((a**2+b**2)-(2*a*b*np.cos(grad)))\n",
        "print(f'o valor do lado c é de {c}')"
      ],
      "metadata": {
        "colab": {
          "base_uri": "https://localhost:8080/"
        },
        "id": "8xeV6abhsJry",
        "outputId": "24cbfee6-a6ca-4926-88e2-bff8c199d028"
      },
      "execution_count": 7,
      "outputs": [
        {
          "output_type": "stream",
          "name": "stdout",
          "text": [
            "o valor do lado c é de 2.9148444583553634\n"
          ]
        }
      ]
    },
    {
      "cell_type": "code",
      "source": [
        "4. \n",
        "import numpy as np\n",
        "i = 30 \n",
        "F1 = np.floor ((1+np.sqrt(5)/2)**i-(1-np.sqrt(5)/2)**i)/np.sqrt(5)\n",
        "print(f'o valor de F1 é de {F1}')"
      ],
      "metadata": {
        "colab": {
          "base_uri": "https://localhost:8080/"
        },
        "id": "xStckVf3t3cR",
        "outputId": "9ea2a1d3-804d-4e40-b673-7444ad30955d"
      },
      "execution_count": 11,
      "outputs": [
        {
          "output_type": "stream",
          "name": "stdout",
          "text": [
            "o valor de F1 é de 2682271594.312729\n"
          ]
        }
      ]
    },
    {
      "cell_type": "code",
      "source": [
        "i = 31\n",
        "F1 = np.floor ((1+np.sqrt(5)/2)**i-(1-np.sqrt(5)/2)**i)/np.sqrt(5)\n",
        "print(f'o valor de F1 é de {F1}')"
      ],
      "metadata": {
        "colab": {
          "base_uri": "https://localhost:8080/"
        },
        "id": "FeWOTi5FxvQd",
        "outputId": "2a2fd46e-84e5-4413-b812-a837a0dc0727"
      },
      "execution_count": 12,
      "outputs": [
        {
          "output_type": "stream",
          "name": "stdout",
          "text": [
            "o valor de F1 é de 5681142403.9103\n"
          ]
        }
      ]
    },
    {
      "cell_type": "code",
      "source": [
        "i = 32\n",
        "F1 = np.floor ((1+np.sqrt(5)/2)**i-(1-np.sqrt(5)/2)**i)/np.sqrt(5)\n",
        "print(f'o valor de F1 é de {F1}')"
      ],
      "metadata": {
        "colab": {
          "base_uri": "https://localhost:8080/"
        },
        "id": "TApSBe1cyCuv",
        "outputId": "407f9205-99d4-440f-ddcb-ec4a5b48f5ff"
      },
      "execution_count": 13,
      "outputs": [
        {
          "output_type": "stream",
          "name": "stdout",
          "text": [
            "o valor de F1 é de 12032852706.9578\n"
          ]
        }
      ]
    }
  ]
}