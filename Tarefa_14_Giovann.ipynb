{
  "nbformat": 4,
  "nbformat_minor": 0,
  "metadata": {
    "colab": {
      "provenance": [],
      "authorship_tag": "ABX9TyOWdjWHGDp5XLBwLnzWdkrj",
      "include_colab_link": true
    },
    "kernelspec": {
      "name": "python3",
      "display_name": "Python 3"
    },
    "language_info": {
      "name": "python"
    }
  },
  "cells": [
    {
      "cell_type": "markdown",
      "metadata": {
        "id": "view-in-github",
        "colab_type": "text"
      },
      "source": [
        "<a href=\"https://colab.research.google.com/github/gio-gama/BasesComputacionais/blob/master/Tarefa_14_Giovann.ipynb\" target=\"_parent\"><img src=\"https://colab.research.google.com/assets/colab-badge.svg\" alt=\"Open In Colab\"/></a>"
      ]
    },
    {
      "cell_type": "markdown",
      "source": [
        "Giovanna Gama"
      ],
      "metadata": {
        "id": "k_b1XSYiOkK9"
      }
    },
    {
      "cell_type": "code",
      "source": [
        "1\n",
        "import pandas as pd\n",
        "import numpy as np\n",
        "import matplotlib.pyplot as plt\n",
        "\n",
        "x = pd.read_csv('https://raw.githubusercontent.com/BMClab/BasesComputacionais/master/dados/balance.csv')\n",
        "x"
      ],
      "metadata": {
        "colab": {
          "base_uri": "https://localhost:8080/",
          "height": 424
        },
        "id": "cN7BqlaYOnW4",
        "outputId": "76985753-dc83-4b0e-c5e3-bb5bf4cb0839"
      },
      "execution_count": 1,
      "outputs": [
        {
          "output_type": "execute_result",
          "data": {
            "text/plain": [
              "      Time[s]     Fx[N]     Fy[N]       Fz[N]    Mx[Nm]     My[Nm]    Mz[Nm]  \\\n",
              "0        0.01 -1.919034 -4.571088  535.434951  3.162207  39.573486 -0.730428   \n",
              "1        0.02 -1.879878 -4.460744  535.388657  3.188683  39.489794 -0.736319   \n",
              "2        0.03 -1.826901 -4.361212  535.357865  3.216085  39.405791 -0.742518   \n",
              "3        0.04 -1.751454 -4.280243  535.344141  3.244572  39.321156 -0.749198   \n",
              "4        0.05 -1.653044 -4.221079  535.333173  3.273691  39.235670 -0.756347   \n",
              "...       ...       ...       ...         ...       ...        ...       ...   \n",
              "5995    59.96 -1.686699 -4.448812  535.606790  1.560903  40.358188 -0.761125   \n",
              "5996    59.97 -1.708597 -4.460978  535.688024  1.571501  40.322492 -0.759395   \n",
              "5997    59.98 -1.721913 -4.473796  535.776049  1.593658  40.284017 -0.760723   \n",
              "5998    59.99 -1.728616 -4.485147  535.871916  1.625330  40.243219 -0.764808   \n",
              "5999    60.00 -1.731940 -4.494739  535.973441  1.662295  40.201142 -0.770525   \n",
              "\n",
              "      COPx[cm]  COPy[cm]  \n",
              "0    -7.390905  0.590587  \n",
              "1    -7.375912  0.595583  \n",
              "2    -7.360645  0.600736  \n",
              "3    -7.345024  0.606072  \n",
              "4    -7.329206  0.611524  \n",
              "...        ...       ...  \n",
              "5995 -7.535040  0.291427  \n",
              "5996 -7.527234  0.293361  \n",
              "5997 -7.518816  0.297449  \n",
              "5998 -7.509858  0.303306  \n",
              "5999 -7.500585  0.310145  \n",
              "\n",
              "[6000 rows x 9 columns]"
            ],
            "text/html": [
              "\n",
              "  <div id=\"df-08175358-bc64-4a8d-bd91-e8fcae7f080b\">\n",
              "    <div class=\"colab-df-container\">\n",
              "      <div>\n",
              "<style scoped>\n",
              "    .dataframe tbody tr th:only-of-type {\n",
              "        vertical-align: middle;\n",
              "    }\n",
              "\n",
              "    .dataframe tbody tr th {\n",
              "        vertical-align: top;\n",
              "    }\n",
              "\n",
              "    .dataframe thead th {\n",
              "        text-align: right;\n",
              "    }\n",
              "</style>\n",
              "<table border=\"1\" class=\"dataframe\">\n",
              "  <thead>\n",
              "    <tr style=\"text-align: right;\">\n",
              "      <th></th>\n",
              "      <th>Time[s]</th>\n",
              "      <th>Fx[N]</th>\n",
              "      <th>Fy[N]</th>\n",
              "      <th>Fz[N]</th>\n",
              "      <th>Mx[Nm]</th>\n",
              "      <th>My[Nm]</th>\n",
              "      <th>Mz[Nm]</th>\n",
              "      <th>COPx[cm]</th>\n",
              "      <th>COPy[cm]</th>\n",
              "    </tr>\n",
              "  </thead>\n",
              "  <tbody>\n",
              "    <tr>\n",
              "      <th>0</th>\n",
              "      <td>0.01</td>\n",
              "      <td>-1.919034</td>\n",
              "      <td>-4.571088</td>\n",
              "      <td>535.434951</td>\n",
              "      <td>3.162207</td>\n",
              "      <td>39.573486</td>\n",
              "      <td>-0.730428</td>\n",
              "      <td>-7.390905</td>\n",
              "      <td>0.590587</td>\n",
              "    </tr>\n",
              "    <tr>\n",
              "      <th>1</th>\n",
              "      <td>0.02</td>\n",
              "      <td>-1.879878</td>\n",
              "      <td>-4.460744</td>\n",
              "      <td>535.388657</td>\n",
              "      <td>3.188683</td>\n",
              "      <td>39.489794</td>\n",
              "      <td>-0.736319</td>\n",
              "      <td>-7.375912</td>\n",
              "      <td>0.595583</td>\n",
              "    </tr>\n",
              "    <tr>\n",
              "      <th>2</th>\n",
              "      <td>0.03</td>\n",
              "      <td>-1.826901</td>\n",
              "      <td>-4.361212</td>\n",
              "      <td>535.357865</td>\n",
              "      <td>3.216085</td>\n",
              "      <td>39.405791</td>\n",
              "      <td>-0.742518</td>\n",
              "      <td>-7.360645</td>\n",
              "      <td>0.600736</td>\n",
              "    </tr>\n",
              "    <tr>\n",
              "      <th>3</th>\n",
              "      <td>0.04</td>\n",
              "      <td>-1.751454</td>\n",
              "      <td>-4.280243</td>\n",
              "      <td>535.344141</td>\n",
              "      <td>3.244572</td>\n",
              "      <td>39.321156</td>\n",
              "      <td>-0.749198</td>\n",
              "      <td>-7.345024</td>\n",
              "      <td>0.606072</td>\n",
              "    </tr>\n",
              "    <tr>\n",
              "      <th>4</th>\n",
              "      <td>0.05</td>\n",
              "      <td>-1.653044</td>\n",
              "      <td>-4.221079</td>\n",
              "      <td>535.333173</td>\n",
              "      <td>3.273691</td>\n",
              "      <td>39.235670</td>\n",
              "      <td>-0.756347</td>\n",
              "      <td>-7.329206</td>\n",
              "      <td>0.611524</td>\n",
              "    </tr>\n",
              "    <tr>\n",
              "      <th>...</th>\n",
              "      <td>...</td>\n",
              "      <td>...</td>\n",
              "      <td>...</td>\n",
              "      <td>...</td>\n",
              "      <td>...</td>\n",
              "      <td>...</td>\n",
              "      <td>...</td>\n",
              "      <td>...</td>\n",
              "      <td>...</td>\n",
              "    </tr>\n",
              "    <tr>\n",
              "      <th>5995</th>\n",
              "      <td>59.96</td>\n",
              "      <td>-1.686699</td>\n",
              "      <td>-4.448812</td>\n",
              "      <td>535.606790</td>\n",
              "      <td>1.560903</td>\n",
              "      <td>40.358188</td>\n",
              "      <td>-0.761125</td>\n",
              "      <td>-7.535040</td>\n",
              "      <td>0.291427</td>\n",
              "    </tr>\n",
              "    <tr>\n",
              "      <th>5996</th>\n",
              "      <td>59.97</td>\n",
              "      <td>-1.708597</td>\n",
              "      <td>-4.460978</td>\n",
              "      <td>535.688024</td>\n",
              "      <td>1.571501</td>\n",
              "      <td>40.322492</td>\n",
              "      <td>-0.759395</td>\n",
              "      <td>-7.527234</td>\n",
              "      <td>0.293361</td>\n",
              "    </tr>\n",
              "    <tr>\n",
              "      <th>5997</th>\n",
              "      <td>59.98</td>\n",
              "      <td>-1.721913</td>\n",
              "      <td>-4.473796</td>\n",
              "      <td>535.776049</td>\n",
              "      <td>1.593658</td>\n",
              "      <td>40.284017</td>\n",
              "      <td>-0.760723</td>\n",
              "      <td>-7.518816</td>\n",
              "      <td>0.297449</td>\n",
              "    </tr>\n",
              "    <tr>\n",
              "      <th>5998</th>\n",
              "      <td>59.99</td>\n",
              "      <td>-1.728616</td>\n",
              "      <td>-4.485147</td>\n",
              "      <td>535.871916</td>\n",
              "      <td>1.625330</td>\n",
              "      <td>40.243219</td>\n",
              "      <td>-0.764808</td>\n",
              "      <td>-7.509858</td>\n",
              "      <td>0.303306</td>\n",
              "    </tr>\n",
              "    <tr>\n",
              "      <th>5999</th>\n",
              "      <td>60.00</td>\n",
              "      <td>-1.731940</td>\n",
              "      <td>-4.494739</td>\n",
              "      <td>535.973441</td>\n",
              "      <td>1.662295</td>\n",
              "      <td>40.201142</td>\n",
              "      <td>-0.770525</td>\n",
              "      <td>-7.500585</td>\n",
              "      <td>0.310145</td>\n",
              "    </tr>\n",
              "  </tbody>\n",
              "</table>\n",
              "<p>6000 rows × 9 columns</p>\n",
              "</div>\n",
              "      <button class=\"colab-df-convert\" onclick=\"convertToInteractive('df-08175358-bc64-4a8d-bd91-e8fcae7f080b')\"\n",
              "              title=\"Convert this dataframe to an interactive table.\"\n",
              "              style=\"display:none;\">\n",
              "        \n",
              "  <svg xmlns=\"http://www.w3.org/2000/svg\" height=\"24px\"viewBox=\"0 0 24 24\"\n",
              "       width=\"24px\">\n",
              "    <path d=\"M0 0h24v24H0V0z\" fill=\"none\"/>\n",
              "    <path d=\"M18.56 5.44l.94 2.06.94-2.06 2.06-.94-2.06-.94-.94-2.06-.94 2.06-2.06.94zm-11 1L8.5 8.5l.94-2.06 2.06-.94-2.06-.94L8.5 2.5l-.94 2.06-2.06.94zm10 10l.94 2.06.94-2.06 2.06-.94-2.06-.94-.94-2.06-.94 2.06-2.06.94z\"/><path d=\"M17.41 7.96l-1.37-1.37c-.4-.4-.92-.59-1.43-.59-.52 0-1.04.2-1.43.59L10.3 9.45l-7.72 7.72c-.78.78-.78 2.05 0 2.83L4 21.41c.39.39.9.59 1.41.59.51 0 1.02-.2 1.41-.59l7.78-7.78 2.81-2.81c.8-.78.8-2.07 0-2.86zM5.41 20L4 18.59l7.72-7.72 1.47 1.35L5.41 20z\"/>\n",
              "  </svg>\n",
              "      </button>\n",
              "      \n",
              "  <style>\n",
              "    .colab-df-container {\n",
              "      display:flex;\n",
              "      flex-wrap:wrap;\n",
              "      gap: 12px;\n",
              "    }\n",
              "\n",
              "    .colab-df-convert {\n",
              "      background-color: #E8F0FE;\n",
              "      border: none;\n",
              "      border-radius: 50%;\n",
              "      cursor: pointer;\n",
              "      display: none;\n",
              "      fill: #1967D2;\n",
              "      height: 32px;\n",
              "      padding: 0 0 0 0;\n",
              "      width: 32px;\n",
              "    }\n",
              "\n",
              "    .colab-df-convert:hover {\n",
              "      background-color: #E2EBFA;\n",
              "      box-shadow: 0px 1px 2px rgba(60, 64, 67, 0.3), 0px 1px 3px 1px rgba(60, 64, 67, 0.15);\n",
              "      fill: #174EA6;\n",
              "    }\n",
              "\n",
              "    [theme=dark] .colab-df-convert {\n",
              "      background-color: #3B4455;\n",
              "      fill: #D2E3FC;\n",
              "    }\n",
              "\n",
              "    [theme=dark] .colab-df-convert:hover {\n",
              "      background-color: #434B5C;\n",
              "      box-shadow: 0px 1px 3px 1px rgba(0, 0, 0, 0.15);\n",
              "      filter: drop-shadow(0px 1px 2px rgba(0, 0, 0, 0.3));\n",
              "      fill: #FFFFFF;\n",
              "    }\n",
              "  </style>\n",
              "\n",
              "      <script>\n",
              "        const buttonEl =\n",
              "          document.querySelector('#df-08175358-bc64-4a8d-bd91-e8fcae7f080b button.colab-df-convert');\n",
              "        buttonEl.style.display =\n",
              "          google.colab.kernel.accessAllowed ? 'block' : 'none';\n",
              "\n",
              "        async function convertToInteractive(key) {\n",
              "          const element = document.querySelector('#df-08175358-bc64-4a8d-bd91-e8fcae7f080b');\n",
              "          const dataTable =\n",
              "            await google.colab.kernel.invokeFunction('convertToInteractive',\n",
              "                                                     [key], {});\n",
              "          if (!dataTable) return;\n",
              "\n",
              "          const docLinkHtml = 'Like what you see? Visit the ' +\n",
              "            '<a target=\"_blank\" href=https://colab.research.google.com/notebooks/data_table.ipynb>data table notebook</a>'\n",
              "            + ' to learn more about interactive tables.';\n",
              "          element.innerHTML = '';\n",
              "          dataTable['output_type'] = 'display_data';\n",
              "          await google.colab.output.renderOutput(dataTable, element);\n",
              "          const docLink = document.createElement('div');\n",
              "          docLink.innerHTML = docLinkHtml;\n",
              "          element.appendChild(docLink);\n",
              "        }\n",
              "      </script>\n",
              "    </div>\n",
              "  </div>\n",
              "  "
            ]
          },
          "metadata": {},
          "execution_count": 1
        }
      ]
    },
    {
      "cell_type": "code",
      "source": [
        "plt.figure()\n",
        "plt.title(\"Torque da direção em função do tempo\")\n",
        "plt.plot(x['Time[s]'],x['My[Nm]'])\n",
        "plt.ylabel('My[Nm]')\n",
        "plt.xlabel('Time [s]')\n",
        "plt.grid()\n",
        "plt.show()\n",
        "\n",
        "print(f\"média = {x['My[Nm]'].mean():.2f}\")\n",
        "print(f\"desvio-padrão = {x['My[Nm]'].std():.2f}\")\n"
      ],
      "metadata": {
        "colab": {
          "base_uri": "https://localhost:8080/",
          "height": 330
        },
        "id": "N3WO1pFEO9vz",
        "outputId": "adb974be-ee0d-43fe-b7b7-3415cfdc3215"
      },
      "execution_count": 2,
      "outputs": [
        {
          "output_type": "display_data",
          "data": {
            "text/plain": [
              "<Figure size 432x288 with 1 Axes>"
            ],
            "image/png": "[encoded data removed]"
          },
          "metadata": {
            "needs_background": "light"
          }
        },
        {
          "output_type": "stream",
          "name": "stdout",
          "text": [
            "média = 41.12\n",
            "desvio-padrão = 1.98\n"
          ]
        }
      ]
    },
    {
      "cell_type": "code",
      "source": [
        "2.\n",
        "inf = pd.read_csv('https://raw.githubusercontent.com/BMClab/BasesComputacionais/master/dados/inflacaoMensal.csv')\n",
        "inf "
      ],
      "metadata": {
        "colab": {
          "base_uri": "https://localhost:8080/",
          "height": 424
        },
        "id": "EnDveBnsPEnT",
        "outputId": "adafe4ce-8304-406e-a567-846c730b033f"
      },
      "execution_count": 3,
      "outputs": [
        {
          "output_type": "execute_result",
          "data": {
            "text/plain": [
              "      Ano  Mês  Inflação\n",
              "0    1944    2      1.45\n",
              "1    1944    3      1.43\n",
              "2    1944    4      1.41\n",
              "3    1944    5      1.39\n",
              "4    1944    6      1.37\n",
              "..    ...  ...       ...\n",
              "900  2019    2      1.25\n",
              "901  2019    3      1.07\n",
              "902  2019    4      0.90\n",
              "903  2019    5      0.40\n",
              "904  2019    6      0.63\n",
              "\n",
              "[905 rows x 3 columns]"
            ],
            "text/html": [
              "\n",
              "  <div id=\"df-cba6917f-fd99-4f78-97b0-fb7d55fbfc31\">\n",
              "    <div class=\"colab-df-container\">\n",
              "      <div>\n",
              "<style scoped>\n",
              "    .dataframe tbody tr th:only-of-type {\n",
              "        vertical-align: middle;\n",
              "    }\n",
              "\n",
              "    .dataframe tbody tr th {\n",
              "        vertical-align: top;\n",
              "    }\n",
              "\n",
              "    .dataframe thead th {\n",
              "        text-align: right;\n",
              "    }\n",
              "</style>\n",
              "<table border=\"1\" class=\"dataframe\">\n",
              "  <thead>\n",
              "    <tr style=\"text-align: right;\">\n",
              "      <th></th>\n",
              "      <th>Ano</th>\n",
              "      <th>Mês</th>\n",
              "      <th>Inflação</th>\n",
              "    </tr>\n",
              "  </thead>\n",
              "  <tbody>\n",
              "    <tr>\n",
              "      <th>0</th>\n",
              "      <td>1944</td>\n",
              "      <td>2</td>\n",
              "      <td>1.45</td>\n",
              "    </tr>\n",
              "    <tr>\n",
              "      <th>1</th>\n",
              "      <td>1944</td>\n",
              "      <td>3</td>\n",
              "      <td>1.43</td>\n",
              "    </tr>\n",
              "    <tr>\n",
              "      <th>2</th>\n",
              "      <td>1944</td>\n",
              "      <td>4</td>\n",
              "      <td>1.41</td>\n",
              "    </tr>\n",
              "    <tr>\n",
              "      <th>3</th>\n",
              "      <td>1944</td>\n",
              "      <td>5</td>\n",
              "      <td>1.39</td>\n",
              "    </tr>\n",
              "    <tr>\n",
              "      <th>4</th>\n",
              "      <td>1944</td>\n",
              "      <td>6</td>\n",
              "      <td>1.37</td>\n",
              "    </tr>\n",
              "    <tr>\n",
              "      <th>...</th>\n",
              "      <td>...</td>\n",
              "      <td>...</td>\n",
              "      <td>...</td>\n",
              "    </tr>\n",
              "    <tr>\n",
              "      <th>900</th>\n",
              "      <td>2019</td>\n",
              "      <td>2</td>\n",
              "      <td>1.25</td>\n",
              "    </tr>\n",
              "    <tr>\n",
              "      <th>901</th>\n",
              "      <td>2019</td>\n",
              "      <td>3</td>\n",
              "      <td>1.07</td>\n",
              "    </tr>\n",
              "    <tr>\n",
              "      <th>902</th>\n",
              "      <td>2019</td>\n",
              "      <td>4</td>\n",
              "      <td>0.90</td>\n",
              "    </tr>\n",
              "    <tr>\n",
              "      <th>903</th>\n",
              "      <td>2019</td>\n",
              "      <td>5</td>\n",
              "      <td>0.40</td>\n",
              "    </tr>\n",
              "    <tr>\n",
              "      <th>904</th>\n",
              "      <td>2019</td>\n",
              "      <td>6</td>\n",
              "      <td>0.63</td>\n",
              "    </tr>\n",
              "  </tbody>\n",
              "</table>\n",
              "<p>905 rows × 3 columns</p>\n",
              "</div>\n",
              "      <button class=\"colab-df-convert\" onclick=\"convertToInteractive('df-cba6917f-fd99-4f78-97b0-fb7d55fbfc31')\"\n",
              "              title=\"Convert this dataframe to an interactive table.\"\n",
              "              style=\"display:none;\">\n",
              "        \n",
              "  <svg xmlns=\"http://www.w3.org/2000/svg\" height=\"24px\"viewBox=\"0 0 24 24\"\n",
              "       width=\"24px\">\n",
              "    <path d=\"M0 0h24v24H0V0z\" fill=\"none\"/>\n",
              "    <path d=\"M18.56 5.44l.94 2.06.94-2.06 2.06-.94-2.06-.94-.94-2.06-.94 2.06-2.06.94zm-11 1L8.5 8.5l.94-2.06 2.06-.94-2.06-.94L8.5 2.5l-.94 2.06-2.06.94zm10 10l.94 2.06.94-2.06 2.06-.94-2.06-.94-.94-2.06-.94 2.06-2.06.94z\"/><path d=\"M17.41 7.96l-1.37-1.37c-.4-.4-.92-.59-1.43-.59-.52 0-1.04.2-1.43.59L10.3 9.45l-7.72 7.72c-.78.78-.78 2.05 0 2.83L4 21.41c.39.39.9.59 1.41.59.51 0 1.02-.2 1.41-.59l7.78-7.78 2.81-2.81c.8-.78.8-2.07 0-2.86zM5.41 20L4 18.59l7.72-7.72 1.47 1.35L5.41 20z\"/>\n",
              "  </svg>\n",
              "      </button>\n",
              "      \n",
              "  <style>\n",
              "    .colab-df-container {\n",
              "      display:flex;\n",
              "      flex-wrap:wrap;\n",
              "      gap: 12px;\n",
              "    }\n",
              "\n",
              "    .colab-df-convert {\n",
              "      background-color: #E8F0FE;\n",
              "      border: none;\n",
              "      border-radius: 50%;\n",
              "      cursor: pointer;\n",
              "      display: none;\n",
              "      fill: #1967D2;\n",
              "      height: 32px;\n",
              "      padding: 0 0 0 0;\n",
              "      width: 32px;\n",
              "    }\n",
              "\n",
              "    .colab-df-convert:hover {\n",
              "      background-color: #E2EBFA;\n",
              "      box-shadow: 0px 1px 2px rgba(60, 64, 67, 0.3), 0px 1px 3px 1px rgba(60, 64, 67, 0.15);\n",
              "      fill: #174EA6;\n",
              "    }\n",
              "\n",
              "    [theme=dark] .colab-df-convert {\n",
              "      background-color: #3B4455;\n",
              "      fill: #D2E3FC;\n",
              "    }\n",
              "\n",
              "    [theme=dark] .colab-df-convert:hover {\n",
              "      background-color: #434B5C;\n",
              "      box-shadow: 0px 1px 3px 1px rgba(0, 0, 0, 0.15);\n",
              "      filter: drop-shadow(0px 1px 2px rgba(0, 0, 0, 0.3));\n",
              "      fill: #FFFFFF;\n",
              "    }\n",
              "  </style>\n",
              "\n",
              "      <script>\n",
              "        const buttonEl =\n",
              "          document.querySelector('#df-cba6917f-fd99-4f78-97b0-fb7d55fbfc31 button.colab-df-convert');\n",
              "        buttonEl.style.display =\n",
              "          google.colab.kernel.accessAllowed ? 'block' : 'none';\n",
              "\n",
              "        async function convertToInteractive(key) {\n",
              "          const element = document.querySelector('#df-cba6917f-fd99-4f78-97b0-fb7d55fbfc31');\n",
              "          const dataTable =\n",
              "            await google.colab.kernel.invokeFunction('convertToInteractive',\n",
              "                                                     [key], {});\n",
              "          if (!dataTable) return;\n",
              "\n",
              "          const docLinkHtml = 'Like what you see? Visit the ' +\n",
              "            '<a target=\"_blank\" href=https://colab.research.google.com/notebooks/data_table.ipynb>data table notebook</a>'\n",
              "            + ' to learn more about interactive tables.';\n",
              "          element.innerHTML = '';\n",
              "          dataTable['output_type'] = 'display_data';\n",
              "          await google.colab.output.renderOutput(dataTable, element);\n",
              "          const docLink = document.createElement('div');\n",
              "          docLink.innerHTML = docLinkHtml;\n",
              "          element.appendChild(docLink);\n",
              "        }\n",
              "      </script>\n",
              "    </div>\n",
              "  </div>\n",
              "  "
            ]
          },
          "metadata": {},
          "execution_count": 3
        }
      ]
    },
    {
      "cell_type": "code",
      "source": [
        "mar = inf.query(\"Mês == 3\")['Inflação']\n",
        "\n",
        "print('A mediana é: %.2f' % mar.median())\n",
        "print('A média é: %.2f' % mar.mean())\n",
        "print('O desvio-padrão é: %.2f' % mar.std())\n"
      ],
      "metadata": {
        "colab": {
          "base_uri": "https://localhost:8080/"
        },
        "id": "ZMO4xQ5iPZK2",
        "outputId": "37b382c3-c0f4-405e-a0af-29a7d8fe1aed"
      },
      "execution_count": 4,
      "outputs": [
        {
          "output_type": "stream",
          "name": "stdout",
          "text": [
            "A mediana é: 1.56\n",
            "A média é: 4.85\n",
            "O desvio-padrão é: 11.26\n"
          ]
        }
      ]
    },
    {
      "cell_type": "code",
      "source": [
        "mar.hist()"
      ],
      "metadata": {
        "colab": {
          "base_uri": "https://localhost:8080/",
          "height": 282
        },
        "id": "uUEIKKl4Pg1H",
        "outputId": "80aaa45b-4072-4b87-e4b8-ffc6839b9f3d"
      },
      "execution_count": 5,
      "outputs": [
        {
          "output_type": "execute_result",
          "data": {
            "text/plain": [
              "<matplotlib.axes._subplots.AxesSubplot at 0x7f3b4a77e810>"
            ]
          },
          "metadata": {},
          "execution_count": 5
        },
        {
          "output_type": "display_data",
          "data": {
            "text/plain": [
              "<Figure size 432x288 with 1 Axes>"
            ],
            "image/png": "[encoded data removed]"
          },
          "metadata": {
            "needs_background": "light"
          }
        }
      ]
    },
    {
      "cell_type": "code",
      "source": [
        "3.\n",
        "mar2 = inf.query(\"Mês == 3 and Ano >= 1995\")['Inflação'] \n",
        "\n",
        "print('A mediana é: %.2f' % mar2.median())\n",
        "print('A média é: %.2f' % mar2.mean())\n",
        "print('O desvio-padrão é: %.2f' % mar2.std())\n"
      ],
      "metadata": {
        "colab": {
          "base_uri": "https://localhost:8080/"
        },
        "id": "I5uVoWOQPlfs",
        "outputId": "c6d914c5-545b-4bbf-a718-2845cfec58c7"
      },
      "execution_count": 6,
      "outputs": [
        {
          "output_type": "stream",
          "name": "stdout",
          "text": [
            "A mediana é: 0.61\n",
            "A média é: 0.65\n",
            "O desvio-padrão é: 0.69\n"
          ]
        }
      ]
    },
    {
      "cell_type": "code",
      "source": [
        "mar2.hist()"
      ],
      "metadata": {
        "colab": {
          "base_uri": "https://localhost:8080/",
          "height": 282
        },
        "id": "G38UtZbiQBkY",
        "outputId": "5722aa82-124c-4495-d313-a37f49b1e479"
      },
      "execution_count": 7,
      "outputs": [
        {
          "output_type": "execute_result",
          "data": {
            "text/plain": [
              "<matplotlib.axes._subplots.AxesSubplot at 0x7f3b4a6b4b90>"
            ]
          },
          "metadata": {},
          "execution_count": 7
        },
        {
          "output_type": "display_data",
          "data": {
            "text/plain": [
              "<Figure size 432x288 with 1 Axes>"
            ],
            "image/png": "[encoded data removed]"
          },
          "metadata": {
            "needs_background": "light"
          }
        }
      ]
    }
  ]
}